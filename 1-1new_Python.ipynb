{
 "cells": [
  {
   "cell_type": "markdown",
   "metadata": {
    "azdata_cell_guid": "538b5de3-f65b-4d00-9067-9bd3f8218042"
   },
   "source": [
    "# Getting Started with Equations[](https://render.githubusercontent.com/view/ipynb?color_mode=light&commit=e3e0895f657f09c9935dc0046b4ab528a1c453e1&enc_url=68747470733a2f2f7261772e67697468756275736572636f6e74656e742e636f6d2f4d6963726f736f66744c6561726e696e672f457373656e7469616c2d4d6174682d522f653365303839356636353766303963393933356463303034366234616235323861316334353365312f4d6f64756c6530312f30312d30312d496e74726f64756374696f6e253230746f2532304571756174696f6e732e6970796e62&nwo=MicrosoftLearning%2FEssential-Math-R&path=Module01%2F01-01-Introduction+to+Equations.ipynb&repository_id=135463498&repository_type=Repository#Getting-Started-with-Equations)\n",
    "\n",
    "Equations are calculations in which one or more variables represent unknown values. In this notebook, you'll learn some fundamental techniques for solving simple equations.\n",
    "\n",
    "## One Step Equations[](https://render.githubusercontent.com/view/ipynb?color_mode=light&commit=e3e0895f657f09c9935dc0046b4ab528a1c453e1&enc_url=68747470733a2f2f7261772e67697468756275736572636f6e74656e742e636f6d2f4d6963726f736f66744c6561726e696e672f457373656e7469616c2d4d6174682d522f653365303839356636353766303963393933356463303034366234616235323861316334353365312f4d6f64756c6530312f30312d30312d496e74726f64756374696f6e253230746f2532304571756174696f6e732e6970796e62&nwo=MicrosoftLearning%2FEssential-Math-R&path=Module01%2F01-01-Introduction+to+Equations.ipynb&repository_id=135463498&repository_type=Repository#One-Step-Equations)\n",
    "\n",
    "Consider the following equation:\n",
    "\n",
    "![$$x + 16 = -25$$](https://render.githubusercontent.com/render/math?math=x%20%2B%2016%20%3D%20-25&mode=display)\n",
    "\n",
    "The challenge here is to find the value for **x**, and to do this we need to _isolate the variable_. In this case, we need to get **x** onto one side of the \"=\" sign, and all of the other values onto the other side. To accomplish this we'll follow these rules:\n",
    "\n",
    "1.  Use opposite operations to cancel out the values we don't want on one side. In this case, the left side of the equation includes an addition of 16, so we'll cancel that out by subtracting 16 and the left side of the equation becomes **x + 16 - 16**.\n",
    "2.  Whatever you do to one side, you must also do to the other side. In this case, we subtracted 16 from the left side, so we must also subtract 16 from the right side of the equation, which becomes **\\-25 - 16**. Our equation now looks like this:\n",
    "\n",
    "![$$x + 16 - 16 = -25 - 16$$](https://render.githubusercontent.com/render/math?math=x%20%2B%2016%20-%2016%20%3D%20-25%20-%2016&mode=display)\n",
    "\n",
    "Now we can calculate the values on both side. On the left side, 16 - 16 is 0, so we're left with:\n",
    "\n",
    "![$$x = -25 - 16$$](https://render.githubusercontent.com/render/math?math=x%20%3D%20-25%20-%2016&mode=display)\n",
    "\n",
    "Which yields the result **\\-41**. Our equation is now solved, as you can see here:\n",
    "\n",
    "![$$x = -41$$](https://render.githubusercontent.com/render/math?math=x%20%3D%20-41&mode=display)\n",
    "\n",
    "It's always good practice to verify your result by plugging the variable value you've calculated into the original equation and ensuring that it holds true. We can easily do that by using some simple R code.\n",
    "\n",
    "To verify the equation using R code, place the cursor in the following cell and then click the ►**|** button in the toolbar."
   ]
  },
  {
   "cell_type": "code",
   "execution_count": 1,
   "metadata": {
    "azdata_cell_guid": "29c0f31c-ee2d-4693-a93e-a3ae8d3f6994"
   },
   "outputs": [
    {
     "data": {
      "text/plain": [
       "True"
      ]
     },
     "execution_count": 1,
     "metadata": {},
     "output_type": "execute_result"
    }
   ],
   "source": [
    "x = -41\n",
    "x + 16 == -25"
   ]
  },
  {
   "cell_type": "markdown",
   "metadata": {
    "azdata_cell_guid": "36602960-3f8c-4c01-8283-ba4e2ddb5288"
   },
   "source": [
    "## Two-Step Equations[](https://render.githubusercontent.com/view/ipynb?color_mode=light&commit=e3e0895f657f09c9935dc0046b4ab528a1c453e1&enc_url=68747470733a2f2f7261772e67697468756275736572636f6e74656e742e636f6d2f4d6963726f736f66744c6561726e696e672f457373656e7469616c2d4d6174682d522f653365303839356636353766303963393933356463303034366234616235323861316334353365312f4d6f64756c6530312f30312d30312d496e74726f64756374696f6e253230746f2532304571756174696f6e732e6970796e62&nwo=MicrosoftLearning%2FEssential-Math-R&path=Module01%2F01-01-Introduction+to+Equations.ipynb&repository_id=135463498&repository_type=Repository#Two-Step-Equations)\n",
    "\n",
    "The previous example was fairly simple - you could probably work it out in your head. So what about something a little more complex?\n",
    "\n",
    "![$$3x - 2 = 10 $$](https://render.githubusercontent.com/render/math?math=3x%20-%202%20%3D%2010&mode=display)\n",
    "\n",
    "As before, we need to isolate the variable **x**, but this time we'll do it in two steps. The first thing we'll do is to cancel out the _constants_. A constant is any number that stands on its own, so in this case the 2 that we're subtracting on the left side is a constant. We'll use an opposite operation to cancel it out on the left side, so since the current operation is to subtract 2, we'll add 2; and of course whatever we do on the left side we also need to do on the right side, so after the first step, our equation looks like this:\n",
    "\n",
    "![$$3x - 2 + 2 = 10 + 2 $$](https://render.githubusercontent.com/render/math?math=3x%20-%202%20%2B%202%20%3D%2010%20%2B%202&mode=display)\n",
    "\n",
    "Now the -2 and +2 on the left cancel one another out, and on the right side, 10 + 2 is 12; so the equation is now:\n",
    "\n",
    "![$$3x = 12 $$](https://render.githubusercontent.com/render/math?math=3x%20%3D%2012&mode=display)\n",
    "\n",
    "OK, time for step two - we need to deal with the _coefficients_ \\- a coefficient is a number that is applied to a variable. In this case, our expression on the left is 3x, which means x multiplied by 3; so we can apply the opposite operation to cancel it out as long as we do the same to the other side, like this:\n",
    "\n",
    "![$$\\frac{3x}{3} = \\frac{12}{3} $$](https://render.githubusercontent.com/render/math?math=%5Cfrac%7B3x%7D%7B3%7D%20%3D%20%5Cfrac%7B12%7D%7B3%7D&mode=display)\n",
    "\n",
    "3x ÷ 3 is x, so we've now isolated the variable\n",
    "\n",
    "![$$x = \\frac{12}{3} $$](https://render.githubusercontent.com/render/math?math=x%20%3D%20%5Cfrac%7B12%7D%7B3%7D&mode=display)\n",
    "\n",
    "And we can calculate the result as 12/3 which is **4**:\n",
    "\n",
    "![$$x = 4 $$](https://render.githubusercontent.com/render/math?math=x%20%3D%204&mode=display)"
   ]
  },
  {
   "cell_type": "code",
   "execution_count": 2,
   "metadata": {
    "azdata_cell_guid": "e9a952d1-239d-4110-839d-7f13730957f1"
   },
   "outputs": [
    {
     "data": {
      "text/plain": [
       "True"
      ]
     },
     "execution_count": 2,
     "metadata": {},
     "output_type": "execute_result"
    }
   ],
   "source": [
    "x = 4\n",
    "3*x - 2 == 10"
   ]
  },
  {
   "cell_type": "markdown",
   "metadata": {
    "azdata_cell_guid": "3288f7c4-2eb3-491c-93c4-bae5b5d4f99c"
   },
   "source": [
    "## Combining Like Terms[](https://render.githubusercontent.com/view/ipynb?color_mode=light&commit=e3e0895f657f09c9935dc0046b4ab528a1c453e1&enc_url=68747470733a2f2f7261772e67697468756275736572636f6e74656e742e636f6d2f4d6963726f736f66744c6561726e696e672f457373656e7469616c2d4d6174682d522f653365303839356636353766303963393933356463303034366234616235323861316334353365312f4d6f64756c6530312f30312d30312d496e74726f64756374696f6e253230746f2532304571756174696f6e732e6970796e62&nwo=MicrosoftLearning%2FEssential-Math-R&path=Module01%2F01-01-Introduction+to+Equations.ipynb&repository_id=135463498&repository_type=Repository#Combining-Like-Terms)\n",
    "\n",
    "Like terms are elements of an expression that relate to the same variable or constant (with the same _order_ or _exponential_, which we'll discuss later). For example, consider the following equation:\n",
    "\n",
    "![$$\\textbf{5x} + 1 \\textbf{- 2x} = 22 $$](https://render.githubusercontent.com/render/math?math=%5Ctextbf%7B5x%7D%20%2B%201%20%5Ctextbf%7B-%202x%7D%20%3D%2022&mode=display)\n",
    "\n",
    "In this equation, the left side includes the terms **5x** and **\\- 2x**, both of which represent the variable **x** multiplied by a coefficient. Note that we include the sign (+ or -) in front of the value.\n",
    "\n",
    "We can rewrite the equation to combine these like terms:\n",
    "\n",
    "![$$\\textbf{5x - 2x} + 1 = 22 $$](https://render.githubusercontent.com/render/math?math=%5Ctextbf%7B5x%20-%202x%7D%20%2B%201%20%3D%2022&mode=display)\n",
    "\n",
    "We can then simply perform the necessary operations on the like terms to consolidate them into a single term:\n",
    "\n",
    "![$$\\textbf{3x} + 1 = 22 $$](https://render.githubusercontent.com/render/math?math=%5Ctextbf%7B3x%7D%20%2B%201%20%3D%2022&mode=display)\n",
    "\n",
    "Now, we can solve this like any other two-step equation. First we'll remove the constants from the left side - in this case, there's a constant expression that adds 1, so we'll use the opposite operation to remove it and do the same on the other side:\n",
    "\n",
    "![$$3x + 1 - 1 = 22 - 1 $$](https://render.githubusercontent.com/render/math?math=3x%20%2B%201%20-%201%20%3D%2022%20-%201&mode=display)\n",
    "\n",
    "That gives us:\n",
    "\n",
    "![$$3x = 21 $$](https://render.githubusercontent.com/render/math?math=3x%20%3D%2021&mode=display)\n",
    "\n",
    "Then we'll deal with the coefficients - in this case x is multiplied by 3, so we'll divide by 3 on both sides to remove that:\n",
    "\n",
    "![$$\\frac{3x}{3} = \\frac{21}{3} $$](https://render.githubusercontent.com/render/math?math=%5Cfrac%7B3x%7D%7B3%7D%20%3D%20%5Cfrac%7B21%7D%7B3%7D&mode=display)\n",
    "\n",
    "This give us our answer:\n",
    "\n",
    "![$$x = 7 $$](https://render.githubusercontent.com/render/math?math=x%20%3D%207&mode=display)"
   ]
  },
  {
   "cell_type": "code",
   "execution_count": 3,
   "metadata": {
    "azdata_cell_guid": "42af87c3-0063-4adc-8c41-ac059e0f9241"
   },
   "outputs": [
    {
     "data": {
      "text/plain": [
       "True"
      ]
     },
     "execution_count": 3,
     "metadata": {},
     "output_type": "execute_result"
    }
   ],
   "source": [
    "x = 7\n",
    "5*x + 1 - 2*x == 22"
   ]
  },
  {
   "cell_type": "markdown",
   "metadata": {
    "azdata_cell_guid": "50ceab33-7531-4c65-8b04-9256eb8bf2a0"
   },
   "source": [
    "## Working with Fractions[](https://render.githubusercontent.com/view/ipynb?color_mode=light&commit=e3e0895f657f09c9935dc0046b4ab528a1c453e1&enc_url=68747470733a2f2f7261772e67697468756275736572636f6e74656e742e636f6d2f4d6963726f736f66744c6561726e696e672f457373656e7469616c2d4d6174682d522f653365303839356636353766303963393933356463303034366234616235323861316334353365312f4d6f64756c6530312f30312d30312d496e74726f64756374696f6e253230746f2532304571756174696f6e732e6970796e62&nwo=MicrosoftLearning%2FEssential-Math-R&path=Module01%2F01-01-Introduction+to+Equations.ipynb&repository_id=135463498&repository_type=Repository#Working-with-Fractions)\n",
    "\n",
    "Some of the steps in solving the equations above have involved working wth fractions - which in themselves are actually just division operations. Let's take a look at an example of an equation in which our variable is defined as a fraction:\n",
    "\n",
    "![$$\\frac{x}{3} + 1 = 16 $$](https://render.githubusercontent.com/render/math?math=%5Cfrac%7Bx%7D%7B3%7D%20%2B%201%20%3D%2016&mode=display)\n",
    "\n",
    "We follow the same approach as before, first removing the constants from the left side - so we'll subtract 1 from both sides.\n",
    "\n",
    "![$$\\frac{x}{3} = 15 $$](https://render.githubusercontent.com/render/math?math=%5Cfrac%7Bx%7D%7B3%7D%20%3D%2015&mode=display)\n",
    "\n",
    "Now we need to deal with the fraction on the left so that we're left with just **x**. The fraction is x/3 which is another way of saying _x divided by 3_, so we can apply the opposite operation to both sides. In this case, we need to multiply both sides by the denominator under our variable, which is 3. To make it easier to work with a term that contains fractions, we can express whole numbers as fractions with a denominator of 1; so on the left, we can express 3 as 3/1 and multiply it with x/3. Note that the notation for multiplication is a **•** symbol rather than the standard _x_ multiplication operator (which would cause confusion with the variable **x**) or the asterisk symbol used by most programming languages.\n",
    "\n",
    "![$$\\frac{3}{1} \\cdot \\frac{x}{3} = 15 \\cdot 3 $$](https://render.githubusercontent.com/render/math?math=%5Cfrac%7B3%7D%7B1%7D%20%5Ccdot%20%5Cfrac%7Bx%7D%7B3%7D%20%3D%2015%20%5Ccdot%203&mode=display)\n",
    "\n",
    "This gives us the following result:\n",
    "\n",
    "![$$x = 45 $$](https://render.githubusercontent.com/render/math?math=x%20%3D%2045&mode=display)"
   ]
  },
  {
   "cell_type": "code",
   "execution_count": 4,
   "metadata": {
    "azdata_cell_guid": "d847cec2-6d21-45be-978c-666cc2ea9a1b"
   },
   "outputs": [
    {
     "data": {
      "text/plain": [
       "True"
      ]
     },
     "execution_count": 4,
     "metadata": {},
     "output_type": "execute_result"
    }
   ],
   "source": [
    "x = 45\n",
    "x/3 + 1 == 16"
   ]
  },
  {
   "cell_type": "markdown",
   "metadata": {
    "azdata_cell_guid": "63942674-e2f4-45ab-a394-104ac457608a"
   },
   "source": [
    " Let's look at another example, in which the variable is a whole number, but its coefficient is a fraction:\n",
    "\n",
    "![$$\\frac{2}{5}x + 1 = 11 $$](https://render.githubusercontent.com/render/math?math=%5Cfrac%7B2%7D%7B5%7Dx%20%2B%201%20%3D%2011&mode=display)\n",
    "\n",
    "As usual, we'll start by removing the constants from the variable expression; so in this case we need to subtract 1 from both sides:\n",
    "\n",
    "![$$\\frac{2}{5}x = 10 $$](https://render.githubusercontent.com/render/math?math=%5Cfrac%7B2%7D%7B5%7Dx%20%3D%2010&mode=display)\n",
    "\n",
    "Now we need to cancel out the fraction. The expression equates to two-fifths times x, so the opposite operation is to divide by 2/5; but a simpler way to do this with a fraction is to multiply it by its _reciprocal_, which is just the inverse of the fraction, in this case 5/2. Of course, we need to do this to both sides:\n",
    "\n",
    "![$$\\frac{5}{2} \\cdot \\frac{2}{5}x = \\frac{10}{1} \\cdot \\frac{5}{2} $$](https://render.githubusercontent.com/render/math?math=%5Cfrac%7B5%7D%7B2%7D%20%5Ccdot%20%5Cfrac%7B2%7D%7B5%7Dx%20%3D%20%5Cfrac%7B10%7D%7B1%7D%20%5Ccdot%20%5Cfrac%7B5%7D%7B2%7D&mode=display)\n",
    "\n",
    "That gives us the following result:\n",
    "\n",
    "![$$x = \\frac{50}{2} $$](https://render.githubusercontent.com/render/math?math=x%20%3D%20%5Cfrac%7B50%7D%7B2%7D&mode=display)\n",
    "\n",
    "Which we can simplify to:\n",
    "\n",
    "![$$x = 25 $$](https://render.githubusercontent.com/render/math?math=x%20%3D%2025&mode=display)\n",
    "\n",
    "lets try"
   ]
  },
  {
   "cell_type": "code",
   "execution_count": 5,
   "metadata": {
    "azdata_cell_guid": "534a283a-f058-4ce2-b0e2-6798d0b34d7c",
    "tags": []
   },
   "outputs": [
    {
     "data": {
      "text/plain": [
       "True"
      ]
     },
     "execution_count": 5,
     "metadata": {},
     "output_type": "execute_result"
    }
   ],
   "source": [
    "x = 25\n",
    "2/5 * x + 1 ==11"
   ]
  },
  {
   "cell_type": "markdown",
   "metadata": {
    "azdata_cell_guid": "d94b00df-16ff-413e-afe0-7cd903ab5e7d"
   },
   "source": [
    "## Equations with Variables on Both Sides[](https://render.githubusercontent.com/view/ipynb?color_mode=light&commit=e3e0895f657f09c9935dc0046b4ab528a1c453e1&enc_url=68747470733a2f2f7261772e67697468756275736572636f6e74656e742e636f6d2f4d6963726f736f66744c6561726e696e672f457373656e7469616c2d4d6174682d522f653365303839356636353766303963393933356463303034366234616235323861316334353365312f4d6f64756c6530312f30312d30312d496e74726f64756374696f6e253230746f2532304571756174696f6e732e6970796e62&nwo=MicrosoftLearning%2FEssential-Math-R&path=Module01%2F01-01-Introduction+to+Equations.ipynb&repository_id=135463498&repository_type=Repository#Equations-with-Variables-on-Both-Sides)\n",
    "\n",
    "So far, all of our equations have had a variable term on only one side. However, variable terms can exist on both sides.\n",
    "\n",
    "Consider this equation:\n",
    "\n",
    "![$$3x + 2 = 5x - 1 $$](https://render.githubusercontent.com/render/math?math=3x%20%2B%202%20%3D%205x%20-%201&mode=display)\n",
    "\n",
    "This time, we have terms that include **x** on both sides. Let's take exactly the same approach to solving this kind of equation as we did for the previous examples. First, let's deal with the constants by adding 1 to both sides. That gets rid of the -1 on the right:\n",
    "\n",
    "![$$3x + 3 = 5x $$](https://render.githubusercontent.com/render/math?math=3x%20%2B%203%20%3D%205x&mode=display)\n",
    "\n",
    "Now we can eliminate the variable expression from one side by subtracting 3x from both sides. That gets rid of the 3x on the left:\n",
    "\n",
    "![$$3 = 2x $$](https://render.githubusercontent.com/render/math?math=3%20%3D%202x&mode=display)\n",
    "\n",
    "Next, we can deal with the coefficient by dividing both sides by 2:\n",
    "\n",
    "![$$\\frac{3}{2} = x $$](https://render.githubusercontent.com/render/math?math=%5Cfrac%7B3%7D%7B2%7D%20%3D%20x&mode=display)\n",
    "\n",
    "Now we've isolated x. It looks a little strange because we usually have the variable on the left side, so if it makes you more comfortable you can simply reverse the equation:\n",
    "\n",
    "![$$x = \\frac{3}{2} $$](https://render.githubusercontent.com/render/math?math=x%20%3D%20%5Cfrac%7B3%7D%7B2%7D&mode=display)\n",
    "\n",
    "Finally, this answer is correct as it is; but 3/2 is an improper fraction. We can simplify it to:\n",
    "\n",
    "![$$x = 1\\frac{1}{2} $$](https://render.githubusercontent.com/render/math?math=x%20%3D%201%5Cfrac%7B1%7D%7B2%7D&mode=display)\n",
    "\n",
    "So x is 11/2 (which is of course 1.5 in decimal notation). Let's check it"
   ]
  },
  {
   "cell_type": "code",
   "execution_count": 6,
   "metadata": {
    "azdata_cell_guid": "a82f8204-c9e7-41da-977b-6aba1d576c89"
   },
   "outputs": [
    {
     "data": {
      "text/plain": [
       "True"
      ]
     },
     "execution_count": 6,
     "metadata": {},
     "output_type": "execute_result"
    }
   ],
   "source": [
    "x = 1.5\n",
    "3*x + 2 == 5*x -1"
   ]
  },
  {
   "cell_type": "markdown",
   "metadata": {
    "azdata_cell_guid": "1a769358-434f-4000-9987-8b9de320909b"
   },
   "source": [
    "## Using the Distributive Property[](https://render.githubusercontent.com/view/ipynb?color_mode=light&commit=e3e0895f657f09c9935dc0046b4ab528a1c453e1&enc_url=68747470733a2f2f7261772e67697468756275736572636f6e74656e742e636f6d2f4d6963726f736f66744c6561726e696e672f457373656e7469616c2d4d6174682d522f653365303839356636353766303963393933356463303034366234616235323861316334353365312f4d6f64756c6530312f30312d30312d496e74726f64756374696f6e253230746f2532304571756174696f6e732e6970796e62&nwo=MicrosoftLearning%2FEssential-Math-R&path=Module01%2F01-01-Introduction+to+Equations.ipynb&repository_id=135463498&repository_type=Repository#Using-the-Distributive-Property)\n",
    "\n",
    "The distributive property is a mathematical law that enables us to distribute the same operation to terms within parenthesis. For example, consider the following equation:\n",
    "\n",
    "![$$\\textbf{4(x + 2)} + \\textbf{3(x - 2)} = 16 $$](https://render.githubusercontent.com/render/math?math=%5Ctextbf%7B4%28x%20%2B%202%29%7D%20%2B%20%5Ctextbf%7B3%28x%20-%202%29%7D%20%3D%2016&mode=display)\n",
    "\n",
    "The equation includes two operations in parenthesis: **4(_x_ \\+ 2)** and **3(_x_ \\- 2)**. Each of these operations consists of a constant by which the contents of the parenthesis must be multiplied: for example, 4 times (_x_ \\+ 2). The distributive property means that we can achieve the same result by multiplying each term in the parenthesis and adding the results, so for the first parenthetical operation, we can multiply 4 by _x_ and add it to 4 times +2; and for the second parenthetical operation, we can calculate 3 times _x_ \\+ 3 times -2). Note that the constants in the parenthesis include the sign (+ or -) that proceed them:\n",
    "\n",
    "![$$4x + 8 + 3x - 6 = 16 $$](https://render.githubusercontent.com/render/math?math=4x%20%2B%208%20%2B%203x%20-%206%20%3D%2016&mode=display)\n",
    "\n",
    "Now we can group our like terms:\n",
    "\n",
    "![$$7x + 2 = 16 $$](https://render.githubusercontent.com/render/math?math=7x%20%2B%202%20%3D%2016&mode=display)\n",
    "\n",
    "Then we move the constant to the other side:\n",
    "\n",
    "![$$7x = 14 $$](https://render.githubusercontent.com/render/math?math=7x%20%3D%2014&mode=display)\n",
    "\n",
    "And now we can deal with the coefficient:\n",
    "\n",
    "![$$\\frac{7x}{7} = \\frac{14}{7} $$](https://render.githubusercontent.com/render/math?math=%5Cfrac%7B7x%7D%7B7%7D%20%3D%20%5Cfrac%7B14%7D%7B7%7D&mode=display)\n",
    "\n",
    "Which gives us our answer:\n",
    "\n",
    "![$$x = 2 $$](https://render.githubusercontent.com/render/math?math=x%20%3D%202&mode=display)\n",
    "\n",
    "Here's the original equation with the calculated value for _x_"
   ]
  },
  {
   "cell_type": "code",
   "execution_count": 7,
   "metadata": {
    "azdata_cell_guid": "a9b73a52-a8ea-4ca4-85e0-771bf8a6dd98"
   },
   "outputs": [
    {
     "data": {
      "text/plain": [
       "True"
      ]
     },
     "execution_count": 7,
     "metadata": {},
     "output_type": "execute_result"
    }
   ],
   "source": [
    "x = 2\n",
    "4*(x + 2) + 3*(x - 2) == 16"
   ]
  }
 ],
 "metadata": {
  "kernelspec": {
   "display_name": "Python 3",
   "language": "python",
   "name": "python3"
  },
  "language_info": {
   "codemirror_mode": {
    "name": "ipython",
    "version": 3
   },
   "file_extension": ".py",
   "mimetype": "text/x-python",
   "name": "python",
   "nbconvert_exporter": "python",
   "pygments_lexer": "ipython3",
   "version": "3.9.6"
  }
 },
 "nbformat": 4,
 "nbformat_minor": 2
}
